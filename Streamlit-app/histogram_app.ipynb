{
 "cells": [
  {
   "cell_type": "code",
   "execution_count": null,
   "id": "6d9d961b-ab13-41eb-97fc-d8cdef4643eb",
   "metadata": {},
   "outputs": [],
   "source": [
    "import numpy as np\n",
    "import matplotlib.pyplot as plt"
   ]
  },
  {
   "cell_type": "code",
   "execution_count": null,
   "id": "a52d5c00-fe6c-4aca-bc9d-53d0d5e712ae",
   "metadata": {},
   "outputs": [],
   "source": [
    "# Generate random data\n",
    "data = np.random.randn(1000)"
   ]
  },
  {
   "cell_type": "code",
   "execution_count": null,
   "id": "b5ffc30a-e93c-44f6-8e8f-f680b5d2689e",
   "metadata": {},
   "outputs": [],
   "source": [
    "# Cell magic for inline plots\n",
    "%%matplotlib inline"
   ]
  },
  {
   "cell_type": "code",
   "execution_count": null,
   "id": "a0a2f8b7-79ba-4600-86e8-d76ae0f74cae",
   "metadata": {},
   "outputs": [],
   "source": [
    "# User input for number of bins\n",
    "bins = int(input(\"Enter number of bins for histogram: \"))"
   ]
  },
  {
   "cell_type": "code",
   "execution_count": null,
   "id": "72e7e336-bb35-4967-b9a0-f07e1cee7918",
   "metadata": {},
   "outputs": [],
   "source": [
    "# Plot histogram\n",
    "plt.hist(data, bins=bins)\n",
    "plt.title(\"Random Data Histogram\")\n",
    "plt.xlabel(\"Value\")\n",
    "plt.ylabel(\"Frequency\")\n",
    "plt.show()"
   ]
  },
  {
   "cell_type": "code",
   "execution_count": null,
   "id": "ca6c914c-6eb1-441e-b334-27d20dff08aa",
   "metadata": {},
   "outputs": [],
   "source": []
  }
 ],
 "metadata": {
  "kernelspec": {
   "display_name": "Python 3 (ipykernel)",
   "language": "python",
   "name": "python3"
  },
  "language_info": {
   "codemirror_mode": {
    "name": "ipython",
    "version": 3
   },
   "file_extension": ".py",
   "mimetype": "text/x-python",
   "name": "python",
   "nbconvert_exporter": "python",
   "pygments_lexer": "ipython3",
   "version": "3.11.5"
  }
 },
 "nbformat": 4,
 "nbformat_minor": 5
}
